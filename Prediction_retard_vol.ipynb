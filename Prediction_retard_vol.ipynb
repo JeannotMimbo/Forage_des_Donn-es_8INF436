{
 "cells": [
  {
   "cell_type": "markdown",
   "metadata": {},
   "source": [
    "### Introduction "
   ]
  },
  {
   "cell_type": "markdown",
   "metadata": {},
   "source": [
    "### Partie I Préparation des données "
   ]
  },
  {
   "cell_type": "code",
   "execution_count": null,
   "metadata": {},
   "outputs": [],
   "source": [
    "import pandas as pd\n",
    "import numpy as np\n",
    "import seaborn as sns\n",
    "import matplotlib.pyplot as plt\n",
    "from sklearn.preprocessing import LabelEncoder\n",
    "from sklearn.preprocessing import StandardScaler\n",
    "from imblearn.over_sampling import RandomOverSampler\n",
    "from sklearn.model_selection import train_test_split\n",
    "from sklearn.ensemble import RandomForestClassifier\n",
    "from sklearn.feature_selection import SelectFromModel\n",
    "from sklearn.decomposition import PCA\n",
    "from sklearn.pipeline import Pipeline\n",
    "from sklearn.metrics import classification_report\n",
    "import warnings\n",
    "warnings.filterwarnings('ignore')"
   ]
  },
  {
   "cell_type": "code",
   "execution_count": 4,
   "metadata": {},
   "outputs": [
    {
     "name": "stderr",
     "output_type": "stream",
     "text": [
      "C:\\Users\\jeann\\AppData\\Local\\Temp\\ipykernel_9132\\1709735481.py:3: DtypeWarning: Columns (11,13,78,85,86,93) have mixed types. Specify dtype option on import or set low_memory=False.\n",
      "  df = pd.read_csv(file_path)\n"
     ]
    },
    {
     "name": "stdout",
     "output_type": "stream",
     "text": [
      "<class 'pandas.core.frame.DataFrame'>\n",
      "RangeIndex: 563737 entries, 0 to 563736\n",
      "Data columns (total 120 columns):\n",
      " #    Column                                              Dtype  \n",
      "---   ------                                              -----  \n",
      " 0    Year                                                int64  \n",
      " 1    Quarter                                             int64  \n",
      " 2    Month                                               int64  \n",
      " 3    DayofMonth                                          int64  \n",
      " 4    DayOfWeek                                           int64  \n",
      " 5    FlightDate                                          object \n",
      " 6    Marketing_Airline_Network                           object \n",
      " 7    Operated_or_Branded_Code_Share_Partners             object \n",
      " 8    DOT_ID_Marketing_Airline                            int64  \n",
      " 9    IATA_Code_Marketing_Airline                         object \n",
      " 10   Flight_Number_Marketing_Airline                     int64  \n",
      " 11   Originally_Scheduled_Code_Share_Airline             object \n",
      " 12   DOT_ID_Originally_Scheduled_Code_Share_Airline      float64\n",
      " 13   IATA_Code_Originally_Scheduled_Code_Share_Airline   object \n",
      " 14   Flight_Num_Originally_Scheduled_Code_Share_Airline  float64\n",
      " 15   Operating_Airline                                   object \n",
      " 16   DOT_ID_Operating_Airline                            int64  \n",
      " 17   IATA_Code_Operating_Airline                         object \n",
      " 18   Tail_Number                                         object \n",
      " 19   Flight_Number_Operating_Airline                     int64  \n",
      " 20   OriginAirportID                                     int64  \n",
      " 21   OriginAirportSeqID                                  int64  \n",
      " 22   OriginCityMarketID                                  int64  \n",
      " 23   Origin                                              object \n",
      " 24   OriginCityName                                      object \n",
      " 25   OriginState                                         object \n",
      " 26   OriginStateFips                                     int64  \n",
      " 27   OriginStateName                                     object \n",
      " 28   OriginWac                                           int64  \n",
      " 29   DestAirportID                                       int64  \n",
      " 30   DestAirportSeqID                                    int64  \n",
      " 31   DestCityMarketID                                    int64  \n",
      " 32   Dest                                                object \n",
      " 33   DestCityName                                        object \n",
      " 34   DestState                                           object \n",
      " 35   DestStateFips                                       int64  \n",
      " 36   DestStateName                                       object \n",
      " 37   DestWac                                             int64  \n",
      " 38   CRSDepTime                                          int64  \n",
      " 39   DepTime                                             float64\n",
      " 40   DepDelay                                            float64\n",
      " 41   DepDelayMinutes                                     float64\n",
      " 42   DepDel15                                            float64\n",
      " 43   DepartureDelayGroups                                float64\n",
      " 44   DepTimeBlk                                          object \n",
      " 45   TaxiOut                                             float64\n",
      " 46   WheelsOff                                           float64\n",
      " 47   WheelsOn                                            float64\n",
      " 48   TaxiIn                                              float64\n",
      " 49   CRSArrTime                                          int64  \n",
      " 50   ArrTime                                             float64\n",
      " 51   ArrDelay                                            float64\n",
      " 52   ArrDelayMinutes                                     float64\n",
      " 53   ArrDel15                                            float64\n",
      " 54   ArrivalDelayGroups                                  float64\n",
      " 55   ArrTimeBlk                                          object \n",
      " 56   Cancelled                                           float64\n",
      " 57   CancellationCode                                    object \n",
      " 58   Diverted                                            float64\n",
      " 59   CRSElapsedTime                                      float64\n",
      " 60   ActualElapsedTime                                   float64\n",
      " 61   AirTime                                             float64\n",
      " 62   Flights                                             float64\n",
      " 63   Distance                                            float64\n",
      " 64   DistanceGroup                                       int64  \n",
      " 65   CarrierDelay                                        float64\n",
      " 66   WeatherDelay                                        float64\n",
      " 67   NASDelay                                            float64\n",
      " 68   SecurityDelay                                       float64\n",
      " 69   LateAircraftDelay                                   float64\n",
      " 70   FirstDepTime                                        float64\n",
      " 71   TotalAddGTime                                       float64\n",
      " 72   LongestAddGTime                                     float64\n",
      " 73   DivAirportLandings                                  int64  \n",
      " 74   DivReachedDest                                      float64\n",
      " 75   DivActualElapsedTime                                float64\n",
      " 76   DivArrDelay                                         float64\n",
      " 77   DivDistance                                         float64\n",
      " 78   Div1Airport                                         object \n",
      " 79   Div1AirportID                                       float64\n",
      " 80   Div1AirportSeqID                                    float64\n",
      " 81   Div1WheelsOn                                        float64\n",
      " 82   Div1TotalGTime                                      float64\n",
      " 83   Div1LongestGTime                                    float64\n",
      " 84   Div1WheelsOff                                       float64\n",
      " 85   Div1TailNum                                         object \n",
      " 86   Div2Airport                                         object \n",
      " 87   Div2AirportID                                       float64\n",
      " 88   Div2AirportSeqID                                    float64\n",
      " 89   Div2WheelsOn                                        float64\n",
      " 90   Div2TotalGTime                                      float64\n",
      " 91   Div2LongestGTime                                    float64\n",
      " 92   Div2WheelsOff                                       float64\n",
      " 93   Div2TailNum                                         object \n",
      " 94   Div3Airport                                         float64\n",
      " 95   Div3AirportID                                       float64\n",
      " 96   Div3AirportSeqID                                    float64\n",
      " 97   Div3WheelsOn                                        float64\n",
      " 98   Div3TotalGTime                                      float64\n",
      " 99   Div3LongestGTime                                    float64\n",
      " 100  Div3WheelsOff                                       float64\n",
      " 101  Div3TailNum                                         float64\n",
      " 102  Div4Airport                                         float64\n",
      " 103  Div4AirportID                                       float64\n",
      " 104  Div4AirportSeqID                                    float64\n",
      " 105  Div4WheelsOn                                        float64\n",
      " 106  Div4TotalGTime                                      float64\n",
      " 107  Div4LongestGTime                                    float64\n",
      " 108  Div4WheelsOff                                       float64\n",
      " 109  Div4TailNum                                         float64\n",
      " 110  Div5Airport                                         float64\n",
      " 111  Div5AirportID                                       float64\n",
      " 112  Div5AirportSeqID                                    float64\n",
      " 113  Div5WheelsOn                                        float64\n",
      " 114  Div5TotalGTime                                      float64\n",
      " 115  Div5LongestGTime                                    float64\n",
      " 116  Div5WheelsOff                                       float64\n",
      " 117  Div5TailNum                                         float64\n",
      " 118  Duplicate                                           object \n",
      " 119  Unnamed: 119                                        float64\n",
      "dtypes: float64(72), int64(23), object(25)\n",
      "memory usage: 516.1+ MB\n"
     ]
    }
   ],
   "source": [
    "#Charger le dataset \n",
    "file_path = \"Data/flight_data_2018_to_2022.csv\"\n",
    "df = pd.read_csv(file_path)\n",
    "# Afficher les informations générales\n",
    "df.info(10)"
   ]
  },
  {
   "cell_type": "code",
   "execution_count": 5,
   "metadata": {},
   "outputs": [
    {
     "data": {
      "text/html": [
       "<div>\n",
       "<style scoped>\n",
       "    .dataframe tbody tr th:only-of-type {\n",
       "        vertical-align: middle;\n",
       "    }\n",
       "\n",
       "    .dataframe tbody tr th {\n",
       "        vertical-align: top;\n",
       "    }\n",
       "\n",
       "    .dataframe thead th {\n",
       "        text-align: right;\n",
       "    }\n",
       "</style>\n",
       "<table border=\"1\" class=\"dataframe\">\n",
       "  <thead>\n",
       "    <tr style=\"text-align: right;\">\n",
       "      <th></th>\n",
       "      <th>Year</th>\n",
       "      <th>Quarter</th>\n",
       "      <th>Month</th>\n",
       "      <th>DayofMonth</th>\n",
       "      <th>DayOfWeek</th>\n",
       "      <th>FlightDate</th>\n",
       "      <th>Marketing_Airline_Network</th>\n",
       "      <th>Operated_or_Branded_Code_Share_Partners</th>\n",
       "      <th>DOT_ID_Marketing_Airline</th>\n",
       "      <th>IATA_Code_Marketing_Airline</th>\n",
       "      <th>...</th>\n",
       "      <th>Div5Airport</th>\n",
       "      <th>Div5AirportID</th>\n",
       "      <th>Div5AirportSeqID</th>\n",
       "      <th>Div5WheelsOn</th>\n",
       "      <th>Div5TotalGTime</th>\n",
       "      <th>Div5LongestGTime</th>\n",
       "      <th>Div5WheelsOff</th>\n",
       "      <th>Div5TailNum</th>\n",
       "      <th>Duplicate</th>\n",
       "      <th>Unnamed: 119</th>\n",
       "    </tr>\n",
       "  </thead>\n",
       "  <tbody>\n",
       "    <tr>\n",
       "      <th>0</th>\n",
       "      <td>2022</td>\n",
       "      <td>1</td>\n",
       "      <td>1</td>\n",
       "      <td>6</td>\n",
       "      <td>4</td>\n",
       "      <td>2022-01-06</td>\n",
       "      <td>DL</td>\n",
       "      <td>DL</td>\n",
       "      <td>19790</td>\n",
       "      <td>DL</td>\n",
       "      <td>...</td>\n",
       "      <td>NaN</td>\n",
       "      <td>NaN</td>\n",
       "      <td>NaN</td>\n",
       "      <td>NaN</td>\n",
       "      <td>NaN</td>\n",
       "      <td>NaN</td>\n",
       "      <td>NaN</td>\n",
       "      <td>NaN</td>\n",
       "      <td>N</td>\n",
       "      <td>NaN</td>\n",
       "    </tr>\n",
       "    <tr>\n",
       "      <th>1</th>\n",
       "      <td>2022</td>\n",
       "      <td>1</td>\n",
       "      <td>1</td>\n",
       "      <td>6</td>\n",
       "      <td>4</td>\n",
       "      <td>2022-01-06</td>\n",
       "      <td>DL</td>\n",
       "      <td>DL</td>\n",
       "      <td>19790</td>\n",
       "      <td>DL</td>\n",
       "      <td>...</td>\n",
       "      <td>NaN</td>\n",
       "      <td>NaN</td>\n",
       "      <td>NaN</td>\n",
       "      <td>NaN</td>\n",
       "      <td>NaN</td>\n",
       "      <td>NaN</td>\n",
       "      <td>NaN</td>\n",
       "      <td>NaN</td>\n",
       "      <td>N</td>\n",
       "      <td>NaN</td>\n",
       "    </tr>\n",
       "    <tr>\n",
       "      <th>2</th>\n",
       "      <td>2022</td>\n",
       "      <td>1</td>\n",
       "      <td>1</td>\n",
       "      <td>6</td>\n",
       "      <td>4</td>\n",
       "      <td>2022-01-06</td>\n",
       "      <td>DL</td>\n",
       "      <td>DL</td>\n",
       "      <td>19790</td>\n",
       "      <td>DL</td>\n",
       "      <td>...</td>\n",
       "      <td>NaN</td>\n",
       "      <td>NaN</td>\n",
       "      <td>NaN</td>\n",
       "      <td>NaN</td>\n",
       "      <td>NaN</td>\n",
       "      <td>NaN</td>\n",
       "      <td>NaN</td>\n",
       "      <td>NaN</td>\n",
       "      <td>N</td>\n",
       "      <td>NaN</td>\n",
       "    </tr>\n",
       "    <tr>\n",
       "      <th>3</th>\n",
       "      <td>2022</td>\n",
       "      <td>1</td>\n",
       "      <td>1</td>\n",
       "      <td>6</td>\n",
       "      <td>4</td>\n",
       "      <td>2022-01-06</td>\n",
       "      <td>DL</td>\n",
       "      <td>DL</td>\n",
       "      <td>19790</td>\n",
       "      <td>DL</td>\n",
       "      <td>...</td>\n",
       "      <td>NaN</td>\n",
       "      <td>NaN</td>\n",
       "      <td>NaN</td>\n",
       "      <td>NaN</td>\n",
       "      <td>NaN</td>\n",
       "      <td>NaN</td>\n",
       "      <td>NaN</td>\n",
       "      <td>NaN</td>\n",
       "      <td>N</td>\n",
       "      <td>NaN</td>\n",
       "    </tr>\n",
       "    <tr>\n",
       "      <th>4</th>\n",
       "      <td>2022</td>\n",
       "      <td>1</td>\n",
       "      <td>1</td>\n",
       "      <td>6</td>\n",
       "      <td>4</td>\n",
       "      <td>2022-01-06</td>\n",
       "      <td>DL</td>\n",
       "      <td>DL</td>\n",
       "      <td>19790</td>\n",
       "      <td>DL</td>\n",
       "      <td>...</td>\n",
       "      <td>NaN</td>\n",
       "      <td>NaN</td>\n",
       "      <td>NaN</td>\n",
       "      <td>NaN</td>\n",
       "      <td>NaN</td>\n",
       "      <td>NaN</td>\n",
       "      <td>NaN</td>\n",
       "      <td>NaN</td>\n",
       "      <td>N</td>\n",
       "      <td>NaN</td>\n",
       "    </tr>\n",
       "  </tbody>\n",
       "</table>\n",
       "<p>5 rows × 120 columns</p>\n",
       "</div>"
      ],
      "text/plain": [
       "   Year  Quarter  Month  DayofMonth  DayOfWeek  FlightDate  \\\n",
       "0  2022        1      1           6          4  2022-01-06   \n",
       "1  2022        1      1           6          4  2022-01-06   \n",
       "2  2022        1      1           6          4  2022-01-06   \n",
       "3  2022        1      1           6          4  2022-01-06   \n",
       "4  2022        1      1           6          4  2022-01-06   \n",
       "\n",
       "  Marketing_Airline_Network Operated_or_Branded_Code_Share_Partners  \\\n",
       "0                        DL                                      DL   \n",
       "1                        DL                                      DL   \n",
       "2                        DL                                      DL   \n",
       "3                        DL                                      DL   \n",
       "4                        DL                                      DL   \n",
       "\n",
       "   DOT_ID_Marketing_Airline IATA_Code_Marketing_Airline  ...  Div5Airport  \\\n",
       "0                     19790                          DL  ...          NaN   \n",
       "1                     19790                          DL  ...          NaN   \n",
       "2                     19790                          DL  ...          NaN   \n",
       "3                     19790                          DL  ...          NaN   \n",
       "4                     19790                          DL  ...          NaN   \n",
       "\n",
       "  Div5AirportID  Div5AirportSeqID Div5WheelsOn  Div5TotalGTime  \\\n",
       "0           NaN               NaN          NaN             NaN   \n",
       "1           NaN               NaN          NaN             NaN   \n",
       "2           NaN               NaN          NaN             NaN   \n",
       "3           NaN               NaN          NaN             NaN   \n",
       "4           NaN               NaN          NaN             NaN   \n",
       "\n",
       "  Div5LongestGTime  Div5WheelsOff Div5TailNum Duplicate  Unnamed: 119  \n",
       "0              NaN            NaN         NaN         N           NaN  \n",
       "1              NaN            NaN         NaN         N           NaN  \n",
       "2              NaN            NaN         NaN         N           NaN  \n",
       "3              NaN            NaN         NaN         N           NaN  \n",
       "4              NaN            NaN         NaN         N           NaN  \n",
       "\n",
       "[5 rows x 120 columns]"
      ]
     },
     "execution_count": 5,
     "metadata": {},
     "output_type": "execute_result"
    }
   ],
   "source": [
    "# Afficher un aperçu du dataset\n",
    "df.head()"
   ]
  },
  {
   "cell_type": "code",
   "execution_count": 7,
   "metadata": {},
   "outputs": [
    {
     "name": "stdout",
     "output_type": "stream",
     "text": [
      "Types de données :\n",
      "Year                  int64\n",
      "Quarter               int64\n",
      "Month                 int64\n",
      "DayofMonth            int64\n",
      "DayOfWeek             int64\n",
      "                     ...   \n",
      "Div5LongestGTime    float64\n",
      "Div5WheelsOff       float64\n",
      "Div5TailNum         float64\n",
      "Duplicate            object\n",
      "Unnamed: 119        float64\n",
      "Length: 120, dtype: object\n"
     ]
    }
   ],
   "source": [
    "# Identifier les types de données\n",
    "print(\"Types de données :\")\n",
    "print(df.dtypes)"
   ]
  },
  {
   "cell_type": "code",
   "execution_count": 10,
   "metadata": {},
   "outputs": [
    {
     "name": "stdout",
     "output_type": "stream",
     "text": [
      "Le DataFrame contient 563737 lignes et 120 colonnes.\n"
     ]
    }
   ],
   "source": [
    "print(f\"Le DataFrame contient {df.shape[0]} lignes et {df.shape[1]} colonnes.\")"
   ]
  },
  {
   "cell_type": "code",
   "execution_count": 11,
   "metadata": {},
   "outputs": [
    {
     "name": "stdout",
     "output_type": "stream",
     "text": [
      "Valeurs manquantes par colonne :\n",
      "Originally_Scheduled_Code_Share_Airline               563720\n",
      "DOT_ID_Originally_Scheduled_Code_Share_Airline        563720\n",
      "IATA_Code_Originally_Scheduled_Code_Share_Airline     563720\n",
      "Flight_Num_Originally_Scheduled_Code_Share_Airline    563720\n",
      "Tail_Number                                            10568\n",
      "                                                       ...  \n",
      "Div5TotalGTime                                        563737\n",
      "Div5LongestGTime                                      563737\n",
      "Div5WheelsOff                                         563737\n",
      "Div5TailNum                                           563737\n",
      "Unnamed: 119                                          563737\n",
      "Length: 75, dtype: int64 \n",
      "\n"
     ]
    }
   ],
   "source": [
    "# Vérifier les valeurs manquantes\n",
    "missing_values = df.isnull().sum()\n",
    "print(\"Valeurs manquantes par colonne :\")\n",
    "print(missing_values[missing_values > 0], \"\\n\")"
   ]
  },
  {
   "cell_type": "code",
   "execution_count": 12,
   "metadata": {},
   "outputs": [
    {
     "data": {
      "image/png": "[encoded data removed]",
      "text/plain": [
       "<Figure size 1200x600 with 1 Axes>"
      ]
     },
     "metadata": {},
     "output_type": "display_data"
    },
    {
     "name": "stdout",
     "output_type": "stream",
     "text": [
      "Nombre de doublons : 0\n"
     ]
    }
   ],
   "source": [
    "# Détection des valeurs aberrantes pour les colonnes numériques\n",
    "numeric_cols = df.select_dtypes(include=[np.number]).columns.tolist()\n",
    "plt.figure(figsize=(12, 6))\n",
    "df[numeric_cols].boxplot(rot=90)  \n",
    "plt.title(\"Analyse des valeurs aberrantes\")\n",
    "plt.show()\n",
    "\n",
    "# Vérification des doublons\n",
    "print(\"Nombre de doublons :\", df.duplicated().sum())"
   ]
  },
  {
   "cell_type": "code",
   "execution_count": 13,
   "metadata": {},
   "outputs": [
    {
     "name": "stdout",
     "output_type": "stream",
     "text": [
      "Variables numériques (95): \n",
      "['Year', 'Quarter', 'Month', 'DayofMonth', 'DayOfWeek', 'DOT_ID_Marketing_Airline', 'Flight_Number_Marketing_Airline', 'DOT_ID_Originally_Scheduled_Code_Share_Airline', 'Flight_Num_Originally_Scheduled_Code_Share_Airline', 'DOT_ID_Operating_Airline', 'Flight_Number_Operating_Airline', 'OriginAirportID', 'OriginAirportSeqID', 'OriginCityMarketID', 'OriginStateFips', 'OriginWac', 'DestAirportID', 'DestAirportSeqID', 'DestCityMarketID', 'DestStateFips', 'DestWac', 'CRSDepTime', 'DepTime', 'DepDelay', 'DepDelayMinutes', 'DepDel15', 'DepartureDelayGroups', 'TaxiOut', 'WheelsOff', 'WheelsOn', 'TaxiIn', 'CRSArrTime', 'ArrTime', 'ArrDelay', 'ArrDelayMinutes', 'ArrDel15', 'ArrivalDelayGroups', 'Cancelled', 'Diverted', 'CRSElapsedTime', 'ActualElapsedTime', 'AirTime', 'Flights', 'Distance', 'DistanceGroup', 'CarrierDelay', 'WeatherDelay', 'NASDelay', 'SecurityDelay', 'LateAircraftDelay', 'FirstDepTime', 'TotalAddGTime', 'LongestAddGTime', 'DivAirportLandings', 'DivReachedDest', 'DivActualElapsedTime', 'DivArrDelay', 'DivDistance', 'Div1AirportID', 'Div1AirportSeqID', 'Div1WheelsOn', 'Div1TotalGTime', 'Div1LongestGTime', 'Div1WheelsOff', 'Div2AirportID', 'Div2AirportSeqID', 'Div2WheelsOn', 'Div2TotalGTime', 'Div2LongestGTime', 'Div2WheelsOff', 'Div3Airport', 'Div3AirportID', 'Div3AirportSeqID', 'Div3WheelsOn', 'Div3TotalGTime', 'Div3LongestGTime', 'Div3WheelsOff', 'Div3TailNum', 'Div4Airport', 'Div4AirportID', 'Div4AirportSeqID', 'Div4WheelsOn', 'Div4TotalGTime', 'Div4LongestGTime', 'Div4WheelsOff', 'Div4TailNum', 'Div5Airport', 'Div5AirportID', 'Div5AirportSeqID', 'Div5WheelsOn', 'Div5TotalGTime', 'Div5LongestGTime', 'Div5WheelsOff', 'Div5TailNum', 'Unnamed: 119']\n",
      "\n",
      "Variables catégorielles (25): \n",
      "['FlightDate', 'Marketing_Airline_Network', 'Operated_or_Branded_Code_Share_Partners', 'IATA_Code_Marketing_Airline', 'Originally_Scheduled_Code_Share_Airline', 'IATA_Code_Originally_Scheduled_Code_Share_Airline', 'Operating_Airline ', 'IATA_Code_Operating_Airline', 'Tail_Number', 'Origin', 'OriginCityName', 'OriginState', 'OriginStateName', 'Dest', 'DestCityName', 'DestState', 'DestStateName', 'DepTimeBlk', 'ArrTimeBlk', 'CancellationCode', 'Div1Airport', 'Div1TailNum', 'Div2Airport', 'Div2TailNum', 'Duplicate']\n"
     ]
    }
   ],
   "source": [
    "\n",
    "# Séparer les variables numériques et catégorielles\n",
    "num_features = df.select_dtypes(include=['int64', 'float64']).columns.tolist()\n",
    "cat_features = df.select_dtypes(include=['object']).columns.tolist()\n",
    "\n",
    "# Afficher les résultats\n",
    "print(f\"Variables numériques ({len(num_features)}): \\n{num_features}\\n\")\n",
    "print(f\"Variables catégorielles ({len(cat_features)}): \\n{cat_features}\")\n"
   ]
  },
  {
   "cell_type": "code",
   "execution_count": 14,
   "metadata": {},
   "outputs": [
    {
     "name": "stdout",
     "output_type": "stream",
     "text": [
      "<class 'pandas.core.frame.DataFrame'>\n",
      "RangeIndex: 563737 entries, 0 to 563736\n",
      "Columns: 155 entries, Year to CancellationCode_D\n",
      "dtypes: bool(39), float64(73), int64(34), object(9)\n",
      "memory usage: 519.9+ MB\n",
      "None\n"
     ]
    }
   ],
   "source": [
    "# Supprimer la colonne FlightDate car elle est redondante avec Year, Month, etc.\n",
    "df.drop(columns=['FlightDate'], inplace=True)\n",
    "\n",
    "# Encodage One-Hot pour les variables avec peu de catégories\n",
    "df = pd.get_dummies(df, columns=['DepTimeBlk', 'ArrTimeBlk', 'CancellationCode'], drop_first=True)\n",
    "\n",
    "# Encodage Label pour certaines variables catégorielles\n",
    "label_cols = ['Marketing_Airline_Network', 'Operated_or_Branded_Code_Share_Partners',\n",
    "              'IATA_Code_Marketing_Airline', 'Originally_Scheduled_Code_Share_Airline',\n",
    "              'IATA_Code_Originally_Scheduled_Code_Share_Airline', 'Operating_Airline ',\n",
    "              'IATA_Code_Operating_Airline', 'OriginState', 'DestState']\n",
    "\n",
    "label_encoders = {}\n",
    "for col in label_cols:\n",
    "    le = LabelEncoder()\n",
    "    df[col] = le.fit_transform(df[col])\n",
    "    label_encoders[col] = le  # Sauvegarder l'encodeur si besoin\n",
    "\n",
    "# Encodage fréquentiel pour les variables avec beaucoup de valeurs uniques\n",
    "freq_cols = ['Tail_Number', 'OriginCityName', 'DestCityName']\n",
    "for col in freq_cols:\n",
    "    df[col] = df[col].map(df[col].value_counts())\n",
    "\n",
    "# Vérification du DataFrame après encodage\n",
    "print(df.info())"
   ]
  },
  {
   "cell_type": "code",
   "execution_count": 15,
   "metadata": {},
   "outputs": [],
   "source": [
    "# Liste des colonnes catégorielles à encoder\n",
    "categorical_cols = ['Origin', 'OriginStateName', 'Dest', 'DestStateName', 'Duplicate']\n",
    "\n",
    "# Appliquer LabelEncoder sur chaque colonne\n",
    "label_encoders = {}  # Dictionnaire pour stocker les encoders\n",
    "for col in categorical_cols:\n",
    "    le = LabelEncoder()\n",
    "    df[col] = le.fit_transform(df[col])  \n",
    "    label_encoders[col] = le  \n",
    "    \n",
    "df = pd.get_dummies(df, columns=categorical_cols, drop_first=True)\n"
   ]
  },
  {
   "cell_type": "code",
   "execution_count": 16,
   "metadata": {},
   "outputs": [
    {
     "name": "stdout",
     "output_type": "stream",
     "text": [
      "Variables continues : ['Year', 'Quarter', 'Month', 'DayofMonth', 'DayOfWeek', 'Marketing_Airline_Network', 'Operated_or_Branded_Code_Share_Partners', 'DOT_ID_Marketing_Airline', 'IATA_Code_Marketing_Airline', 'Flight_Number_Marketing_Airline', 'Originally_Scheduled_Code_Share_Airline', 'DOT_ID_Originally_Scheduled_Code_Share_Airline', 'IATA_Code_Originally_Scheduled_Code_Share_Airline', 'Flight_Num_Originally_Scheduled_Code_Share_Airline', 'Operating_Airline ', 'DOT_ID_Operating_Airline', 'IATA_Code_Operating_Airline', 'Tail_Number', 'OriginAirportID', 'OriginAirportSeqID', 'OriginCityMarketID', 'OriginCityName', 'OriginState', 'OriginStateFips', 'OriginWac', 'DestAirportID', 'DestAirportSeqID', 'DestCityMarketID', 'DestCityName', 'DestState', 'DestStateFips', 'DestWac', 'CRSDepTime', 'DepTime', 'DepDelay', 'DepDelayMinutes', 'DepDel15', 'DepartureDelayGroups', 'TaxiOut', 'WheelsOff', 'WheelsOn', 'TaxiIn', 'CRSArrTime', 'ArrTime', 'ArrDelay', 'ArrDelayMinutes', 'ArrDel15', 'ArrivalDelayGroups', 'Cancelled', 'Diverted', 'CRSElapsedTime', 'ActualElapsedTime', 'AirTime', 'Flights', 'Distance', 'DistanceGroup', 'CarrierDelay', 'WeatherDelay', 'NASDelay', 'SecurityDelay', 'LateAircraftDelay', 'FirstDepTime', 'TotalAddGTime', 'LongestAddGTime', 'DivAirportLandings', 'DivReachedDest', 'DivActualElapsedTime', 'DivArrDelay', 'DivDistance', 'Div1WheelsOn', 'Div1TotalGTime', 'Div1LongestGTime', 'Div1WheelsOff', 'Div2WheelsOn', 'Div2TotalGTime', 'Div2LongestGTime', 'Div2WheelsOff', 'Div3Airport', 'Div3WheelsOn', 'Div3TotalGTime', 'Div3LongestGTime', 'Div3WheelsOff', 'Div4Airport', 'Div4WheelsOn', 'Div4TotalGTime', 'Div4LongestGTime', 'Div4WheelsOff', 'Div5Airport', 'Div5WheelsOn', 'Div5TotalGTime', 'Div5LongestGTime', 'Div5WheelsOff', 'Unnamed: 119']\n"
     ]
    }
   ],
   "source": [
    "# Identifier les colonnes de type numérique (continues)\n",
    "continous_vars = df.select_dtypes(include=['int64', 'float64']).columns.tolist()\n",
    "\n",
    "# Liste des colonnes à exclure\n",
    "exclude_cols = [\n",
    "    'Flight_Number_Operating_Airline', 'Div1AirportID', 'Div1AirportSeqID', \n",
    "    'Div2AirportID', 'Div2AirportSeqID', 'Div3AirportID', 'Div3AirportSeqID', \n",
    "    'Div4AirportID', 'Div4AirportSeqID', 'Div5AirportID', 'Div5AirportSeqID',\n",
    "    'Div3TailNum', 'Div4TailNum', 'Div5TailNum'\n",
    "]\n",
    "\n",
    "# Supprimer les colonnes non désirées de la liste des variables continues\n",
    "continous_vars = [col for col in continous_vars if col not in exclude_cols]\n",
    "\n",
    "# Vérification des variables continues restantes\n",
    "print(\"Variables continues :\", continous_vars)"
   ]
  },
  {
   "cell_type": "code",
   "execution_count": 17,
   "metadata": {},
   "outputs": [
    {
     "name": "stderr",
     "output_type": "stream",
     "text": [
      "c:\\Cours\\Hiver_2025\\8INF436\\Fin_Projet\\Forage_des_Donn-es_8INF436\\env\\Lib\\site-packages\\sklearn\\utils\\extmath.py:1101: RuntimeWarning: invalid value encountered in divide\n",
      "  updated_mean = (last_sum + new_sum) / updated_sample_count\n",
      "c:\\Cours\\Hiver_2025\\8INF436\\Fin_Projet\\Forage_des_Donn-es_8INF436\\env\\Lib\\site-packages\\sklearn\\utils\\extmath.py:1106: RuntimeWarning: invalid value encountered in divide\n",
      "  T = new_sum / new_sample_count\n",
      "c:\\Cours\\Hiver_2025\\8INF436\\Fin_Projet\\Forage_des_Donn-es_8INF436\\env\\Lib\\site-packages\\sklearn\\utils\\extmath.py:1126: RuntimeWarning: invalid value encountered in divide\n",
      "  new_unnormalized_variance -= correction**2 / new_sample_count\n"
     ]
    },
    {
     "name": "stdout",
     "output_type": "stream",
     "text": [
      " Standardisation de data !\n",
      "                     count          mean       std       min       25%  \\\n",
      "Year              563737.0  0.000000e+00  0.000000  0.000000  0.000000   \n",
      "Quarter           563737.0  0.000000e+00  0.000000  0.000000  0.000000   \n",
      "Month             563737.0  0.000000e+00  0.000000  0.000000  0.000000   \n",
      "DayofMonth        563737.0 -1.653665e-17  1.000001 -1.665860 -0.886566   \n",
      "DayOfWeek         563737.0 -1.274532e-16  1.000001 -1.459209 -0.979907   \n",
      "...                    ...           ...       ...       ...       ...   \n",
      "Div5WheelsOn           0.0           NaN       NaN       NaN       NaN   \n",
      "Div5TotalGTime         0.0           NaN       NaN       NaN       NaN   \n",
      "Div5LongestGTime       0.0           NaN       NaN       NaN       NaN   \n",
      "Div5WheelsOff          0.0           NaN       NaN       NaN       NaN   \n",
      "Unnamed: 119           0.0           NaN       NaN       NaN       NaN   \n",
      "\n",
      "                       50%       75%       max  \n",
      "Year              0.000000  0.000000  0.000000  \n",
      "Quarter           0.000000  0.000000  0.000000  \n",
      "Month             0.000000  0.000000  0.000000  \n",
      "DayofMonth        0.004055  0.894676  1.673969  \n",
      "DayOfWeek        -0.021302  0.937302  1.416604  \n",
      "...                    ...       ...       ...  \n",
      "Div5WheelsOn           NaN       NaN       NaN  \n",
      "Div5TotalGTime         NaN       NaN       NaN  \n",
      "Div5LongestGTime       NaN       NaN       NaN  \n",
      "Div5WheelsOff          NaN       NaN       NaN  \n",
      "Unnamed: 119           NaN       NaN       NaN  \n",
      "\n",
      "[93 rows x 8 columns]\n"
     ]
    }
   ],
   "source": [
    "# Initialisation du scaler\n",
    "scaler = StandardScaler()\n",
    "\n",
    "# Application de la standardisation sur les variables continues\n",
    "df[continous_vars] = scaler.fit_transform(df[continous_vars])\n",
    "\n",
    "# Vérification des statistiques après normalisation\n",
    "print(\" Standardisation de data !\")\n",
    "print(df[continous_vars].describe().T) \n"
   ]
  },
  {
   "cell_type": "code",
   "execution_count": 18,
   "metadata": {},
   "outputs": [
    {
     "name": "stdout",
     "output_type": "stream",
     "text": [
      "Colonnes avec valeurs manquantes :\n",
      "Unnamed: 119            100.000000\n",
      "Div4TailNum             100.000000\n",
      "Div4WheelsOff           100.000000\n",
      "Div4LongestGTime        100.000000\n",
      "Div4TotalGTime          100.000000\n",
      "                           ...    \n",
      "DepDelayMinutes           6.259124\n",
      "DepartureDelayGroups      6.259124\n",
      "DepDel15                  6.259124\n",
      "DepTime                   6.257173\n",
      "Tail_Number               1.874633\n",
      "Length: 72, dtype: float64\n"
     ]
    }
   ],
   "source": [
    "# Vérifier le pourcentage de valeurs manquantes\n",
    "missing_values = df.isnull().sum() / len(df) * 100\n",
    "missing_values = missing_values[missing_values > 0].sort_values(ascending=False)\n",
    "\n",
    "# Afficher les colonnes avec des valeurs manquantes\n",
    "print(\"Colonnes avec valeurs manquantes :\")\n",
    "print(missing_values)\n"
   ]
  },
  {
   "cell_type": "code",
   "execution_count": 19,
   "metadata": {},
   "outputs": [],
   "source": [
    "# Suppression des colonnes avec trop de valeurs manquantes\n",
    "threshold = 30  # Seuil de 30% de valeurs manquantes\n",
    "cols_to_drop = missing_values[missing_values > threshold].index\n",
    "df.drop(columns=cols_to_drop, inplace=True)\n",
    "\n",
    "# Remplissage des valeurs manquantes restantes\n",
    "df.fillna(df.median(numeric_only=True), inplace=True)  # Pour les variables continues\n",
    "df.fillna(df.mode().iloc[0], inplace=True)  # Pour les variables catégoriques\n"
   ]
  },
  {
   "cell_type": "code",
   "execution_count": 59,
   "metadata": {},
   "outputs": [
    {
     "name": "stdout",
     "output_type": "stream",
     "text": [
      "Distribution des classes pour 'ArrDel15' :\n",
      "ArrDel15\n",
      "-0.491492    81.815102\n",
      " 2.034620    18.184898\n",
      "Name: proportion, dtype: float64 \n",
      "\n"
     ]
    }
   ],
   "source": [
    "# Vérifier le déséquilibre des classes \n",
    "target_col = \"ArrDel15\" \n",
    "if target_col in df.columns:\n",
    "    print(f\"Distribution des classes pour '{target_col}' :\")\n",
    "    print(df[target_col].value_counts(normalize=True) * 100, \"\\n\")"
   ]
  },
  {
   "cell_type": "code",
   "execution_count": 20,
   "metadata": {},
   "outputs": [
    {
     "name": "stderr",
     "output_type": "stream",
     "text": [
      "C:\\Users\\jeann\\AppData\\Local\\Temp\\ipykernel_9132\\185357868.py:3: FutureWarning: \n",
      "\n",
      "Passing `palette` without assigning `hue` is deprecated and will be removed in v0.14.0. Assign the `x` variable to `hue` and set `legend=False` for the same effect.\n",
      "\n",
      "  sns.countplot(x=df['ArrDel15'], palette='coolwarm')\n"
     ]
    },
    {
     "data": {
      "image/png": "[encoded data removed]",
      "text/plain": [
       "<Figure size 600x400 with 1 Axes>"
      ]
     },
     "metadata": {},
     "output_type": "display_data"
    }
   ],
   "source": [
    "# Affichage de la distribution de la variable cible\n",
    "plt.figure(figsize=(6, 4))\n",
    "sns.countplot(x=df['ArrDel15'], palette='coolwarm')\n",
    "plt.title(\"Distribution des classes dans 'ArrDel15'\")\n",
    "plt.xlabel(\"Retard à l'arrivée (1 = Oui, 0 = Non)\")\n",
    "plt.ylabel(\"Nombre d'exemples\")\n",
    "plt.show()\n"
   ]
  },
  {
   "cell_type": "code",
   "execution_count": 21,
   "metadata": {},
   "outputs": [
    {
     "name": "stdout",
     "output_type": "stream",
     "text": [
      "ArrDel15\n",
      "0    50.0\n",
      "1    50.0\n",
      "Name: proportion, dtype: float64\n"
     ]
    }
   ],
   "source": [
    "# Transformation de la variable cible ArrDel15 en binaire (0 ou 1) \n",
    "df['ArrDel15'] = (df['ArrDel15'] > 0).astype(int)  \n",
    "\n",
    "# Définition des features et de la variable cible\n",
    "X = df.drop(columns=['ArrDel15']) \n",
    "y = df['ArrDel15']\n",
    "\n",
    "# Définition du sur-échantillonneur\n",
    "oversampler = RandomOverSampler(random_state=42)\n",
    "\n",
    "# Application du sur-échantillonnage dans la classe 1 \n",
    "X_resampled, y_resampled = oversampler.fit_resample(X, y)\n",
    "\n",
    "# Vérification de la nouvelle distribution des classes\n",
    "print(y_resampled.value_counts(normalize=True) * 100)\n"
   ]
  },
  {
   "cell_type": "code",
   "execution_count": null,
   "metadata": {},
   "outputs": [],
   "source": [
    "#calculer les corrélations de la variable cible ArrDel15\n",
    "correlations = df.corr(numeric_only=True)['ArrDel15'].sort_values(ascending=False)\n",
    "print(correlations)\n"
   ]
  },
  {
   "cell_type": "code",
   "execution_count": 63,
   "metadata": {},
   "outputs": [],
   "source": [
    "# Sélectionner uniquement les colonnes numériques (exclure les strings)\n",
    "df_numeric = df.select_dtypes(include=['number'])"
   ]
  },
  {
   "cell_type": "code",
   "execution_count": 64,
   "metadata": {},
   "outputs": [
    {
     "name": "stdout",
     "output_type": "stream",
     "text": [
      "Features sélectionnées : ['DepDelay', 'DepDelayMinutes', 'DepDel15', 'DepartureDelayGroups', 'ArrDelay', 'ArrDelayMinutes', 'ArrivalDelayGroups']\n"
     ]
    }
   ],
   "source": [
    "# Calculer la matrice de corrélation sur les variables numériques uniquement\n",
    "correlations = df_numeric.corr()['ArrDel15'].dropna()\n",
    "# Définition du seuil de la sélection de corrélation\n",
    "threshold = 0.3\n",
    "selected_features = correlations[abs(correlations) > threshold].index.tolist()\n",
    "\n",
    "# Filtrage des colonnes pertinentes\n",
    "correlations = df.corr()['ArrDel15'].dropna()\n",
    "selected_features = correlations[abs(correlations) > threshold].index.tolist()\n",
    "\n",
    "# Suppression de la variable cible pour éviter le leakage\n",
    "selected_features.remove('ArrDel15')\n",
    "\n",
    "# Affichage des features sélectionnées\n",
    "print(\"Features sélectionnées :\", selected_features)\n"
   ]
  },
  {
   "cell_type": "code",
   "execution_count": 65,
   "metadata": {},
   "outputs": [
    {
     "name": "stdout",
     "output_type": "stream",
     "text": [
      "Taille du jeu d'entraînement : (450989, 7)\n",
      "Taille du jeu de test : (112748, 7)\n"
     ]
    }
   ],
   "source": [
    "# Définition des features (X) et de la variable cible (y)\n",
    "X = df[selected_features]  # On utilise uniquement les variables continues sélectionnées\n",
    "y = df['ArrDel15']  # Variable cible (prédiction du retard)\n",
    "\n",
    "# Division des données : 80% pour l'entraînement et 20% pour le test\n",
    "X_train, X_test, y_train, y_test = train_test_split(X, y, test_size=0.2, random_state=42, stratify=y)\n",
    "\n",
    "# Vérification de la taille des ensembles\n",
    "print(\"Taille du jeu d'entraînement :\", X_train.shape)\n",
    "print(\"Taille du jeu de test :\", X_test.shape)\n"
   ]
  },
  {
   "cell_type": "code",
   "execution_count": null,
   "metadata": {},
   "outputs": [],
   "source": []
  },
  {
   "cell_type": "markdown",
   "metadata": {},
   "source": [
    "### Partie II Réduction de dimension ou Sélection de dimensions"
   ]
  },
  {
   "cell_type": "code",
   "execution_count": null,
   "metadata": {},
   "outputs": [],
   "source": [
    "\n",
    "# Définition des deux pipelines \n",
    "pipeline_pca = Pipeline([\n",
    "    ('scaler', StandardScaler()),\n",
    "    ('pca', PCA(n_components=0.95)),\n",
    "    ('model', RandomForestClassifier(n_estimators=100, random_state=42))\n",
    "])\n",
    "\n",
    "pipeline_select = Pipeline([\n",
    "    ('scaler', StandardScaler()),\n",
    "    ('select', SelectFromModel(RandomForestClassifier(n_estimators=100, random_state=42))),\n",
    "    ('model', RandomForestClassifier(n_estimators=100, random_state=42))\n",
    "])\n",
    "\n",
    "#  Liste pour stocker les résultats \n",
    "results = {\n",
    "    \"Méthode\": [],\n",
    "    \"Accuracy\": [],\n",
    "    \"Nb_variables\": []\n",
    "}"
   ]
  },
  {
   "cell_type": "code",
   "execution_count": null,
   "metadata": {},
   "outputs": [],
   "source": [
    "# Entraînement pipeline PCA \n",
    "pipeline_pca.fit(X_train, y_train)\n",
    "y_pred_pca = pipeline_pca.predict(X_test)\n",
    "acc_pca = accuracy_score(y_test, y_pred_pca)\n",
    "n_components = pipeline_pca.named_steps['pca'].n_components_\n",
    "\n",
    "results[\"Méthode\"].append(\"PCA\")\n",
    "results[\"Accuracy\"].append(acc_pca)\n",
    "results[\"Nb_variables\"].append(n_components)\n",
    "\n"
   ]
  },
  {
   "cell_type": "code",
   "execution_count": null,
   "metadata": {},
   "outputs": [],
   "source": [
    "# Entraînement pipeline SelectFromModel\n",
    "pipeline_select.fit(X_train, y_train)\n",
    "y_pred_select = pipeline_select.predict(X_test)\n",
    "acc_select = accuracy_score(y_test, y_pred_select)\n",
    "selected_features = np.sum(pipeline_select.named_steps['select'].get_support())\n",
    "\n",
    "results[\"Méthode\"].append(\"SelectFromModel\")\n",
    "results[\"Accuracy\"].append(acc_select)\n",
    "results[\"Nb_variables\"].append(selected_features)"
   ]
  },
  {
   "cell_type": "code",
   "execution_count": null,
   "metadata": {},
   "outputs": [],
   "source": [
    "# Graphique de comparaison PCA et SelectFromModel\n",
    "fig, ax1 = plt.subplots(figsize=(8, 5))\n",
    "\n",
    "# Barres pour l'accuracy\n",
    "ax1.bar(results[\"Méthode\"], results[\"Accuracy\"], color='skyblue', label='Accuracy')\n",
    "ax1.set_ylabel('Accuracy')\n",
    "ax1.set_ylim(0, 1)\n",
    "ax1.set_title('Comparaison PCA vs SelectFromModel')\n",
    "\n",
    "# Ajouter le nombre de variables au-dessus des barres\n",
    "for i, (acc, n_var) in enumerate(zip(results[\"Accuracy\"], results[\"Nb_variables\"])):\n",
    "    ax1.text(i, acc + 0.02, f\"{n_var} vars\", ha='center', fontsize=10)\n",
    "\n",
    "plt.show()"
   ]
  },
  {
   "cell_type": "markdown",
   "metadata": {},
   "source": [
    "###  Partie III Trois modèles de classification "
   ]
  },
  {
   "cell_type": "code",
   "execution_count": null,
   "metadata": {},
   "outputs": [],
   "source": []
  },
  {
   "cell_type": "code",
   "execution_count": null,
   "metadata": {},
   "outputs": [],
   "source": []
  },
  {
   "cell_type": "markdown",
   "metadata": {},
   "source": [
    "### Partie IV Evaluation des modèles via les métriques de validation"
   ]
  },
  {
   "cell_type": "code",
   "execution_count": null,
   "metadata": {},
   "outputs": [],
   "source": []
  },
  {
   "cell_type": "markdown",
   "metadata": {},
   "source": [
    "### Partie V Interface utilisateur"
   ]
  },
  {
   "cell_type": "code",
   "execution_count": null,
   "metadata": {},
   "outputs": [],
   "source": []
  }
 ],
 "metadata": {
  "kernelspec": {
   "display_name": "env",
   "language": "python",
   "name": "python3"
  },
  "language_info": {
   "codemirror_mode": {
    "name": "ipython",
    "version": 3
   },
   "file_extension": ".py",
   "mimetype": "text/x-python",
   "name": "python",
   "nbconvert_exporter": "python",
   "pygments_lexer": "ipython3",
   "version": "3.13.2"
  }
 },
 "nbformat": 4,
 "nbformat_minor": 2
}
